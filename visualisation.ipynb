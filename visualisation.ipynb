{
 "cells": [
  {
   "cell_type": "code",
   "execution_count": null,
   "metadata": {},
   "outputs": [],
   "source": [
    "import requests\n",
    "import json\n",
    "\n",
    "# !pip install requests\n",
    "\n",
    "HEADERS = {\"Authorization\": f\"Bearer {your_github_token}\"}\n",
    "BASE_URL = \"https://api.github.com\"\n",
    "\n",
    "def get_repo_info(owner, repo):\n",
    "    url = f\"{BASE_URL}/repos/{owner}/{repo}\"\n",
    "    response = requests.get(url, headers=HEADERS)\n",
    "    response.raise_for_status() \n",
    "    data = response.json()\n",
    "    return data\n",
    "\n",
    "def get_repo_issues(owner, repo):\n",
    "    url = f\"{BASE_URL}/repos/{owner}/{repo}/issues\"\n",
    "    params = {\"state\": \"all\"} \n",
    "    response = requests.get(url, headers=HEADERS, params=params)\n",
    "    response.raise_for_status()\n",
    "    data = response.json()\n",
    "    return data\n",
    "\n",
    "def get_repo_contributors(owner, repo):\n",
    "    url = f\"{BASE_URL}/repos/{owner}/{repo}/contributors\"\n",
    "    response = requests.get(url, headers=HEADERS)\n",
    "    response.raise_for_status()\n",
    "    data = response.json()\n",
    "    return data\n",
    "\n",
    "\n",
    "\n",
    "owner = \"octocat\"\n",
    "repo = \"Hello-World\"\n",
    "\n",
    "repo_info = get_repo_info(owner, repo)\n",
    "\n",
    "issues = get_repo_issues(owner, repo)\n",
    "\n",
    "contributors = get_repo_contributors(owner, repo)\n",
    "\n",
    "with open(\"repo_info.json\", \"w\") as f:\n",
    "    json.dump(repo_info, f, indent=4)\n",
    "\n",
    "with open(\"issues.json\", \"w\") as f:\n",
    "    json.dump(issues, f, indent=4)\n",
    "\n",
    "with open(\"contributors.json\", \"w\") as f:\n",
    "    json.dump(contributors, f, indent=4)"
   ]
  }
 ],
 "metadata": {
  "kernelspec": {
   "display_name": "aag-tal",
   "language": "python",
   "name": "python3"
  },
  "language_info": {
   "codemirror_mode": {
    "name": "ipython",
    "version": 3
   },
   "file_extension": ".py",
   "mimetype": "text/x-python",
   "name": "python",
   "nbconvert_exporter": "python",
   "pygments_lexer": "ipython3",
   "version": "3.9.19"
  }
 },
 "nbformat": 4,
 "nbformat_minor": 2
}
